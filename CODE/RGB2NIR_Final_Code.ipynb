{
  "nbformat": 4,
  "nbformat_minor": 0,
  "metadata": {
    "colab": {
      "name": "Final_Code",
      "provenance": [],
      "collapsed_sections": []
    },
    "kernelspec": {
      "name": "python3",
      "display_name": "Python 3"
    }
  },
  "cells": [
    {
      "cell_type": "markdown",
      "metadata": {
        "id": "5VIGyIus8Vr7"
      },
      "source": [
        "Take a look at the [repository](https://github.com/junyanz/pytorch-CycleGAN-and-pix2pix) for more information"
      ]
    },
    {
      "cell_type": "code",
      "metadata": {
        "id": "CEPugvCiKim7",
        "colab": {
          "base_uri": "https://localhost:8080/"
        },
        "outputId": "92a556a8-f700-4e12-e352-a26191289766"
      },
      "source": [
        "from google.colab import drive\n",
        "drive.mount('/content/drive')"
      ],
      "execution_count": null,
      "outputs": [
        {
          "output_type": "stream",
          "text": [
            "Mounted at /content/drive\n"
          ],
          "name": "stdout"
        }
      ]
    },
    {
      "cell_type": "markdown",
      "metadata": {
        "id": "7wNjDKdQy35h"
      },
      "source": [
        "# Install"
      ]
    },
    {
      "cell_type": "code",
      "metadata": {
        "id": "TRm-USlsHgEV",
        "colab": {
          "base_uri": "https://localhost:8080/"
        },
        "outputId": "c81d1fba-764c-4be2-9d1e-e22a3bb211a0"
      },
      "source": [
        "#!git clone https://github.com/junyanz/pytorch-CycleGAN-and-pix2pix"
      ],
      "execution_count": null,
      "outputs": [
        {
          "output_type": "stream",
          "text": [
            "Cloning into 'pytorch-CycleGAN-and-pix2pix'...\n",
            "remote: Enumerating objects: 2340, done.\u001b[K\n",
            "remote: Counting objects: 100% (3/3), done.\u001b[K\n",
            "remote: Compressing objects: 100% (3/3), done.\u001b[K\n",
            "remote: Total 2340 (delta 0), reused 2 (delta 0), pack-reused 2337\u001b[K\n",
            "Receiving objects: 100% (2340/2340), 8.10 MiB | 11.64 MiB/s, done.\n",
            "Resolving deltas: 100% (1499/1499), done.\n"
          ],
          "name": "stdout"
        }
      ]
    },
    {
      "cell_type": "code",
      "metadata": {
        "id": "Pt3igws3eiVp"
      },
      "source": [
        "import os\n",
        "os.chdir('/content/drive/MyDrive/Stage_propositionS/pytorch-CycleGAN-and-pix2pix')"
      ],
      "execution_count": null,
      "outputs": []
    },
    {
      "cell_type": "code",
      "metadata": {
        "id": "z1EySlOXwwoa",
        "colab": {
          "base_uri": "https://localhost:8080/"
        },
        "outputId": "bf3075b7-ab9d-4a27-d80c-2f882f9a61b3"
      },
      "source": [
        "!pip install -r requirements.txt"
      ],
      "execution_count": null,
      "outputs": [
        {
          "output_type": "stream",
          "text": [
            "Requirement already satisfied: torch>=1.4.0 in /usr/local/lib/python3.7/dist-packages (from -r requirements.txt (line 1)) (1.9.0+cu102)\n",
            "Requirement already satisfied: torchvision>=0.5.0 in /usr/local/lib/python3.7/dist-packages (from -r requirements.txt (line 2)) (0.10.0+cu102)\n",
            "Collecting dominate>=2.4.0\n",
            "  Downloading dominate-2.6.0-py2.py3-none-any.whl (29 kB)\n",
            "Collecting visdom>=0.1.8.8\n",
            "  Downloading visdom-0.1.8.9.tar.gz (676 kB)\n",
            "\u001b[K     |████████████████████████████████| 676 kB 15.2 MB/s \n",
            "\u001b[?25hCollecting tensorboardcolab\n",
            "  Downloading tensorboardcolab-0.0.22.tar.gz (2.5 kB)\n",
            "Requirement already satisfied: typing-extensions in /usr/local/lib/python3.7/dist-packages (from torch>=1.4.0->-r requirements.txt (line 1)) (3.7.4.3)\n",
            "Requirement already satisfied: numpy in /usr/local/lib/python3.7/dist-packages (from torchvision>=0.5.0->-r requirements.txt (line 2)) (1.19.5)\n",
            "Requirement already satisfied: pillow>=5.3.0 in /usr/local/lib/python3.7/dist-packages (from torchvision>=0.5.0->-r requirements.txt (line 2)) (7.1.2)\n",
            "Requirement already satisfied: scipy in /usr/local/lib/python3.7/dist-packages (from visdom>=0.1.8.8->-r requirements.txt (line 4)) (1.4.1)\n",
            "Requirement already satisfied: requests in /usr/local/lib/python3.7/dist-packages (from visdom>=0.1.8.8->-r requirements.txt (line 4)) (2.23.0)\n",
            "Requirement already satisfied: tornado in /usr/local/lib/python3.7/dist-packages (from visdom>=0.1.8.8->-r requirements.txt (line 4)) (5.1.1)\n",
            "Requirement already satisfied: pyzmq in /usr/local/lib/python3.7/dist-packages (from visdom>=0.1.8.8->-r requirements.txt (line 4)) (22.1.0)\n",
            "Requirement already satisfied: six in /usr/local/lib/python3.7/dist-packages (from visdom>=0.1.8.8->-r requirements.txt (line 4)) (1.15.0)\n",
            "Collecting jsonpatch\n",
            "  Downloading jsonpatch-1.32-py2.py3-none-any.whl (12 kB)\n",
            "Collecting torchfile\n",
            "  Downloading torchfile-0.1.0.tar.gz (5.2 kB)\n",
            "Collecting websocket-client\n",
            "  Downloading websocket_client-1.1.0-py2.py3-none-any.whl (68 kB)\n",
            "\u001b[K     |████████████████████████████████| 68 kB 7.6 MB/s \n",
            "\u001b[?25hCollecting jsonpointer>=1.9\n",
            "  Downloading jsonpointer-2.1-py2.py3-none-any.whl (7.4 kB)\n",
            "Requirement already satisfied: idna<3,>=2.5 in /usr/local/lib/python3.7/dist-packages (from requests->visdom>=0.1.8.8->-r requirements.txt (line 4)) (2.10)\n",
            "Requirement already satisfied: chardet<4,>=3.0.2 in /usr/local/lib/python3.7/dist-packages (from requests->visdom>=0.1.8.8->-r requirements.txt (line 4)) (3.0.4)\n",
            "Requirement already satisfied: urllib3!=1.25.0,!=1.25.1,<1.26,>=1.21.1 in /usr/local/lib/python3.7/dist-packages (from requests->visdom>=0.1.8.8->-r requirements.txt (line 4)) (1.24.3)\n",
            "Requirement already satisfied: certifi>=2017.4.17 in /usr/local/lib/python3.7/dist-packages (from requests->visdom>=0.1.8.8->-r requirements.txt (line 4)) (2021.5.30)\n",
            "Building wheels for collected packages: visdom, tensorboardcolab, torchfile\n",
            "  Building wheel for visdom (setup.py) ... \u001b[?25l\u001b[?25hdone\n",
            "  Created wheel for visdom: filename=visdom-0.1.8.9-py3-none-any.whl size=655249 sha256=1cbe6ad1cada34620af6f8e0e60087d15cb0ca25aedc9a3f1073e872e10e6661\n",
            "  Stored in directory: /root/.cache/pip/wheels/2d/d1/9b/cde923274eac9cbb6ff0d8c7c72fe30a3da9095a38fd50bbf1\n",
            "  Building wheel for tensorboardcolab (setup.py) ... \u001b[?25l\u001b[?25hdone\n",
            "  Created wheel for tensorboardcolab: filename=tensorboardcolab-0.0.22-py3-none-any.whl size=3858 sha256=41cd521e3f96f4492ecf46bfaa1ed467833d4d49f4aea34e512f8d2793416e96\n",
            "  Stored in directory: /root/.cache/pip/wheels/69/4e/4a/1c6c267395cb10edded1050df12af165d3254cfce324e80941\n",
            "  Building wheel for torchfile (setup.py) ... \u001b[?25l\u001b[?25hdone\n",
            "  Created wheel for torchfile: filename=torchfile-0.1.0-py3-none-any.whl size=5710 sha256=607fd2bb20b28fde79ad3e14ab2f9218698f1e4b7a892c8f654aca3ecdc63afd\n",
            "  Stored in directory: /root/.cache/pip/wheels/ac/5c/3a/a80e1c65880945c71fd833408cd1e9a8cb7e2f8f37620bb75b\n",
            "Successfully built visdom tensorboardcolab torchfile\n",
            "Installing collected packages: jsonpointer, websocket-client, torchfile, jsonpatch, visdom, tensorboardcolab, dominate\n",
            "Successfully installed dominate-2.6.0 jsonpatch-1.32 jsonpointer-2.1 tensorboardcolab-0.0.22 torchfile-0.1.0 visdom-0.1.8.9 websocket-client-1.1.0\n"
          ],
          "name": "stdout"
        }
      ]
    },
    {
      "cell_type": "code",
      "metadata": {
        "colab": {
          "base_uri": "https://localhost:8080/"
        },
        "id": "mmatgf_lvYiq",
        "outputId": "c7e51200-3c80-46f8-8117-876c8092fd5e"
      },
      "source": [
        "!pip install tensorboardcolab"
      ],
      "execution_count": null,
      "outputs": [
        {
          "output_type": "stream",
          "text": [
            "Requirement already satisfied: tensorboardcolab in /usr/local/lib/python3.7/dist-packages (0.0.22)\n"
          ],
          "name": "stdout"
        }
      ]
    },
    {
      "cell_type": "code",
      "metadata": {
        "id": "wvYq1K29wOqy"
      },
      "source": [
        "import tensorflow as tf \n",
        "from tensorflow import summary\n",
        "%load_ext tensorboard"
      ],
      "execution_count": null,
      "outputs": []
    },
    {
      "cell_type": "code",
      "metadata": {
        "id": "iM2khhkdwrUo"
      },
      "source": [
        "import time , datetime , warnings \n",
        "warnings.filterwarnings(\"ignore\")\n",
        "current_time = str(datetime.datetime.now().timestamp())"
      ],
      "execution_count": null,
      "outputs": []
    },
    {
      "cell_type": "code",
      "metadata": {
        "id": "8SNhFqNsw_hC"
      },
      "source": [
        "train_log_dir = 'logs/tensorboard/train/' + current_time\n",
        "train_summary_writer = summary.create_file_writer(train_log_dir)"
      ],
      "execution_count": null,
      "outputs": []
    },
    {
      "cell_type": "code",
      "metadata": {
        "id": "XlIKN8yGz4Su"
      },
      "source": [
        "@tf.function\n",
        "def my_func(step,loss):\n",
        "  with train_summary_writer.as_default():\n",
        "    tf.summary.scalar(\"loss\",loss.item(),step)\n"
      ],
      "execution_count": null,
      "outputs": []
    },
    {
      "cell_type": "markdown",
      "metadata": {
        "id": "8daqlgVhw29P"
      },
      "source": [
        "# Datasets\n",
        "\n",
        "Download one of the official datasets with:\n",
        "\n",
        "-   `bash ./datasets/download_cyclegan_dataset.sh [apple2orange, orange2apple, summer2winter_yosemite, winter2summer_yosemite, horse2zebra, zebra2horse, monet2photo, style_monet, style_cezanne, style_ukiyoe, style_vangogh, sat2map, map2sat, cityscapes_photo2label, cityscapes_label2photo, facades_photo2label, facades_label2photo, iphone2dslr_flower]`\n",
        "\n",
        "Or use your own dataset by creating the appropriate folders and adding in the images.\n",
        "\n",
        "-   Create a dataset folder under `/dataset` for your dataset.\n",
        "-   Create subfolders `testA`, `testB`, `trainA`, and `trainB` under your dataset's folder. Place any images you want to transform from a to b (cat2dog) in the `testA` folder, images you want to transform from b to a (dog2cat) in the `testB` folder, and do the same for the `trainA` and `trainB` folders."
      ]
    },
    {
      "cell_type": "markdown",
      "metadata": {
        "id": "-5bD6rn_2PWK"
      },
      "source": [
        "**In this case i have used my own dataset wich called rgb2nir**"
      ]
    },
    {
      "cell_type": "markdown",
      "metadata": {
        "id": "n2pFFa5Ta_46"
      },
      "source": [
        "#Visdom.server\n",
        "Finally I have found the answer!\n",
        "\"start the visdom server before starting the training\n",
        "\n",
        "python -m visdom.server\n",
        "\"\n",
        "And the code can run.\n",
        "\n",
        "\n",
        "You can also disable the visdom by setting --display_id 0.\n",
        "\n",
        "\n"
      ]
    },
    {
      "cell_type": "code",
      "metadata": {
        "id": "Orfhn7dL2DtS"
      },
      "source": [
        "!python -m visdom.server"
      ],
      "execution_count": null,
      "outputs": []
    },
    {
      "cell_type": "markdown",
      "metadata": {
        "id": "yFw1kDQBx3LN"
      },
      "source": [
        "# Training\n",
        "\n",
        "-   `python train.py --dataroot ./datasets/rgb2nir --name rgb2nir --model cycle_gan`\n",
        "\n",
        "Change the `--dataroot` and `--name` to your own dataset's path and model's name. Use `--gpu_ids 0,1,..` to train on multiple GPUs and `--batch_size` to change the batch size. I've found that a batch size of 16 fits onto 4 V100s and can finish training an epoch in ~90s.\n",
        "\n",
        "Once your model has trained, copy over the last checkpoint to a format that the testing model can automatically detect:\n",
        "\n",
        "Use `cp ./checkpoints/rgb2nir/latest_net_G_A.pth ./checkpoints/rgb2nir/latest_net_G.pth` if you want to transform images from class A to class B and `cp ./checkpoints/rgb2nir/latest_net_G_B.pth ./checkpoints/rgb2nir/latest_net_G.pth` if you want to transform images from class B to class A.\n"
      ]
    },
    {
      "cell_type": "code",
      "metadata": {
        "id": "o_j5U1gZ2ptJ"
      },
      "source": [
        "!python train.py --dataroot /content/drive/MyDrive/Stage_propositionS/pytorch-CycleGAN-and-pix2pix/datasets/rgb2nir --name rgb2nir --model cycle_gan"
      ],
      "execution_count": null,
      "outputs": []
    },
    {
      "cell_type": "code",
      "metadata": {
        "id": "0sp7TCT2x9dB",
        "colab": {
          "base_uri": "https://localhost:8080/"
        },
        "outputId": "7d207623-374b-428b-e843-19b748cb971a"
      },
      "source": [
        "!python train.py --dataroot /content/drive/MyDrive/Stage_propositionS/pytorch-CycleGAN-and-pix2pix/datasets/rgb2nir --name rgb2nir --model cycle_gan --continue_train --epoch_count 101"
      ],
      "execution_count": null,
      "outputs": [
        {
          "output_type": "stream",
          "text": [
            "----------------- Options ---------------\n",
            "               batch_size: 2                             \n",
            "                    beta1: 0.5                           \n",
            "          checkpoints_dir: ./checkpoints                 \n",
            "           continue_train: True                          \t[default: False]\n",
            "                crop_size: 288                           \n",
            "                 dataroot: /content/drive/MyDrive/Stage_propositionS/pytorch-CycleGAN-and-pix2pix/datasets/rgb2nir\t[default: None]\n",
            "             dataset_mode: unaligned                     \n",
            "                direction: AtoB                          \n",
            "              display_env: main                          \n",
            "             display_freq: 400                           \n",
            "               display_id: 1                             \n",
            "            display_ncols: 4                             \n",
            "             display_port: 8097                          \n",
            "           display_server: http://localhost              \n",
            "          display_winsize: 256                           \n",
            "                    epoch: latest                        \n",
            "              epoch_count: 101                           \t[default: 1]\n",
            "                 gan_mode: lsgan                         \n",
            "                  gpu_ids: 0                             \n",
            "                init_gain: 0.02                          \n",
            "                init_type: normal                        \n",
            "                 input_nc: 1                             \n",
            "                  isTrain: True                          \t[default: None]\n",
            "                 lambda_A: 10.0                          \n",
            "                 lambda_B: 10.0                          \n",
            "          lambda_identity: 0.5                           \n",
            "                load_iter: 0                             \t[default: 0]\n",
            "                load_size: 288                           \n",
            "                       lr: 0.0002                        \n",
            "           lr_decay_iters: 50                            \n",
            "                lr_policy: linear                        \n",
            "         max_dataset_size: inf                           \n",
            "                    model: cycle_gan                     \n",
            "                 n_epochs: 60                            \n",
            "           n_epochs_decay: 60                            \n",
            "               n_layers_D: 3                             \n",
            "                     name: rgb2nir                       \t[default: experiment_name]\n",
            "                      ndf: 64                            \n",
            "                     netD: basic                         \n",
            "                     netG: resnet_9blocks                \n",
            "                      ngf: 64                            \n",
            "               no_dropout: True                          \n",
            "                  no_flip: False                         \n",
            "                  no_html: False                         \n",
            "                     norm: instance                      \n",
            "              num_threads: 4                             \n",
            "                output_nc: 1                             \n",
            "                    phase: train                         \n",
            "                pool_size: 50                            \n",
            "               preprocess: scale_width                   \n",
            "               print_freq: 100                           \n",
            "             save_by_iter: False                         \n",
            "          save_epoch_freq: 10                            \n",
            "         save_latest_freq: 5000                          \n",
            "           serial_batches: False                         \n",
            "                   suffix:                               \n",
            "         update_html_freq: 1000                          \n",
            "                  verbose: False                         \n",
            "----------------- End -------------------\n",
            "dataset [UnalignedDataset] was created\n",
            "/usr/local/lib/python3.7/dist-packages/torch/utils/data/dataloader.py:481: UserWarning: This DataLoader will create 4 worker processes in total. Our suggested max number of worker in current system is 2, which is smaller than what this DataLoader is going to create. Please be aware that excessive worker creation might get DataLoader running slow or even freeze, lower the worker number to avoid potential slowness/freeze if necessary.\n",
            "  cpuset_checked))\n",
            "The number of training images = 106\n",
            "initialize network with normal\n",
            "initialize network with normal\n",
            "initialize network with normal\n",
            "initialize network with normal\n",
            "model [CycleGANModel] was created\n",
            "loading the model from ./checkpoints/rgb2nir/latest_net_G_A.pth\n",
            "loading the model from ./checkpoints/rgb2nir/latest_net_G_B.pth\n",
            "loading the model from ./checkpoints/rgb2nir/latest_net_D_A.pth\n",
            "loading the model from ./checkpoints/rgb2nir/latest_net_D_B.pth\n",
            "---------- Networks initialized -------------\n",
            "[Network G_A] Total number of parameters : 11.366 M\n",
            "[Network G_B] Total number of parameters : 11.366 M\n",
            "[Network D_A] Total number of parameters : 2.763 M\n",
            "[Network D_B] Total number of parameters : 2.763 M\n",
            "-----------------------------------------------\n",
            "Setting up a new session...\n",
            "create web directory ./checkpoints/rgb2nir/web...\n",
            "/usr/local/lib/python3.7/dist-packages/torch/optim/lr_scheduler.py:134: UserWarning: Detected call of `lr_scheduler.step()` before `optimizer.step()`. In PyTorch 1.1.0 and later, you should call them in the opposite order: `optimizer.step()` before `lr_scheduler.step()`.  Failure to do this will result in PyTorch skipping the first value of the learning rate schedule. See more details at https://pytorch.org/docs/stable/optim.html#how-to-adjust-learning-rate\n",
            "  \"https://pytorch.org/docs/stable/optim.html#how-to-adjust-learning-rate\", UserWarning)\n",
            "learning rate 0.0000656 -> 0.0000623\n",
            "/usr/local/lib/python3.7/dist-packages/torch/utils/data/dataloader.py:481: UserWarning: This DataLoader will create 4 worker processes in total. Our suggested max number of worker in current system is 2, which is smaller than what this DataLoader is going to create. Please be aware that excessive worker creation might get DataLoader running slow or even freeze, lower the worker number to avoid potential slowness/freeze if necessary.\n",
            "  cpuset_checked))\n",
            "(epoch: 101, iters: 100, time: 0.788, data: 1.540) D_A: 0.106 G_A: 0.728 cycle_A: 0.223 idt_A: 0.079 D_B: 0.148 G_B: 0.367 cycle_B: 0.292 idt_B: 0.066 sobelAB: 1.305 sobelBA: 1.426 \n",
            "End of epoch 101 / 120 \t Time Taken: 79 sec\n",
            "learning rate 0.0000623 -> 0.0000590\n",
            "(epoch: 102, iters: 94, time: 0.817, data: 0.001) D_A: 0.122 G_A: 0.394 cycle_A: 0.215 idt_A: 0.067 D_B: 0.124 G_B: 0.491 cycle_B: 0.233 idt_B: 0.064 sobelAB: 1.292 sobelBA: 1.485 \n",
            "End of epoch 102 / 120 \t Time Taken: 81 sec\n",
            "learning rate 0.0000590 -> 0.0000557\n",
            "(epoch: 103, iters: 88, time: 0.833, data: 0.002) D_A: 0.122 G_A: 0.245 cycle_A: 0.207 idt_A: 0.067 D_B: 0.091 G_B: 0.675 cycle_B: 0.228 idt_B: 0.060 sobelAB: 1.331 sobelBA: 1.501 \n",
            "End of epoch 103 / 120 \t Time Taken: 83 sec\n",
            "learning rate 0.0000557 -> 0.0000525\n",
            "(epoch: 104, iters: 82, time: 2.527, data: 0.002) D_A: 0.098 G_A: 0.370 cycle_A: 0.202 idt_A: 0.059 D_B: 0.161 G_B: 0.216 cycle_B: 0.199 idt_B: 0.061 sobelAB: 1.331 sobelBA: 1.522 \n",
            "End of epoch 104 / 120 \t Time Taken: 88 sec\n",
            "learning rate 0.0000525 -> 0.0000492\n",
            "(epoch: 105, iters: 76, time: 0.841, data: 0.002) D_A: 0.167 G_A: 0.501 cycle_A: 0.193 idt_A: 0.054 D_B: 0.117 G_B: 0.889 cycle_B: 0.197 idt_B: 0.060 sobelAB: 1.329 sobelBA: 1.463 \n",
            "End of epoch 105 / 120 \t Time Taken: 85 sec\n",
            "learning rate 0.0000492 -> 0.0000459\n",
            "(epoch: 106, iters: 70, time: 0.841, data: 0.002) D_A: 0.168 G_A: 0.264 cycle_A: 0.196 idt_A: 0.056 D_B: 0.156 G_B: 0.181 cycle_B: 0.174 idt_B: 0.063 sobelAB: 1.395 sobelBA: 1.610 \n",
            "End of epoch 106 / 120 \t Time Taken: 85 sec\n",
            "learning rate 0.0000459 -> 0.0000426\n",
            "(epoch: 107, iters: 64, time: 0.842, data: 0.001) D_A: 0.125 G_A: 0.502 cycle_A: 0.200 idt_A: 0.058 D_B: 0.134 G_B: 0.490 cycle_B: 0.179 idt_B: 0.061 sobelAB: 1.438 sobelBA: 1.642 \n",
            "End of epoch 107 / 120 \t Time Taken: 85 sec\n",
            "learning rate 0.0000426 -> 0.0000393\n",
            "(epoch: 108, iters: 58, time: 1.424, data: 0.002) D_A: 0.130 G_A: 0.382 cycle_A: 0.174 idt_A: 0.048 D_B: 0.089 G_B: 0.531 cycle_B: 0.153 idt_B: 0.057 sobelAB: 1.448 sobelBA: 1.563 \n",
            "End of epoch 108 / 120 \t Time Taken: 86 sec\n",
            "learning rate 0.0000393 -> 0.0000361\n",
            "(epoch: 109, iters: 52, time: 0.839, data: 0.002) D_A: 0.137 G_A: 0.247 cycle_A: 0.186 idt_A: 0.045 D_B: 0.147 G_B: 0.500 cycle_B: 0.149 idt_B: 0.058 sobelAB: 1.486 sobelBA: 1.496 \n",
            "End of epoch 109 / 120 \t Time Taken: 85 sec\n",
            "learning rate 0.0000361 -> 0.0000328\n",
            "(epoch: 110, iters: 46, time: 0.840, data: 0.002) D_A: 0.135 G_A: 0.251 cycle_A: 0.180 idt_A: 0.047 D_B: 0.093 G_B: 0.435 cycle_B: 0.147 idt_B: 0.059 sobelAB: 1.530 sobelBA: 1.540 \n",
            "saving the model at the end of epoch 110, iters 1060\n",
            "End of epoch 110 / 120 \t Time Taken: 86 sec\n",
            "learning rate 0.0000328 -> 0.0000295\n",
            "(epoch: 111, iters: 40, time: 0.842, data: 0.002) D_A: 0.044 G_A: 0.561 cycle_A: 0.171 idt_A: 0.058 D_B: 0.105 G_B: 0.441 cycle_B: 0.199 idt_B: 0.055 sobelAB: 1.556 sobelBA: 1.669 \n",
            "End of epoch 111 / 120 \t Time Taken: 85 sec\n",
            "learning rate 0.0000295 -> 0.0000262\n",
            "(epoch: 112, iters: 34, time: 1.429, data: 0.002) D_A: 0.142 G_A: 0.656 cycle_A: 0.186 idt_A: 0.045 D_B: 0.154 G_B: 0.280 cycle_B: 0.144 idt_B: 0.059 sobelAB: 1.582 sobelBA: 1.623 \n",
            "End of epoch 112 / 120 \t Time Taken: 86 sec\n",
            "learning rate 0.0000262 -> 0.0000230\n",
            "(epoch: 113, iters: 28, time: 0.841, data: 0.002) D_A: 0.186 G_A: 0.271 cycle_A: 0.159 idt_A: 0.044 D_B: 0.099 G_B: 0.375 cycle_B: 0.138 idt_B: 0.053 sobelAB: 1.560 sobelBA: 1.635 \n",
            "End of epoch 113 / 120 \t Time Taken: 85 sec\n",
            "learning rate 0.0000230 -> 0.0000197\n",
            "(epoch: 114, iters: 22, time: 0.843, data: 0.002) D_A: 0.126 G_A: 0.332 cycle_A: 0.182 idt_A: 0.056 D_B: 0.110 G_B: 0.487 cycle_B: 0.196 idt_B: 0.056 sobelAB: 1.600 sobelBA: 1.643 \n",
            "End of epoch 114 / 120 \t Time Taken: 85 sec\n",
            "learning rate 0.0000197 -> 0.0000164\n",
            "(epoch: 115, iters: 16, time: 0.841, data: 0.002) D_A: 0.143 G_A: 0.436 cycle_A: 0.162 idt_A: 0.044 D_B: 0.110 G_B: 0.526 cycle_B: 0.136 idt_B: 0.054 sobelAB: 1.564 sobelBA: 1.589 \n",
            "End of epoch 115 / 120 \t Time Taken: 85 sec\n",
            "learning rate 0.0000164 -> 0.0000131\n",
            "(epoch: 116, iters: 10, time: 1.421, data: 0.002) D_A: 0.103 G_A: 0.486 cycle_A: 0.159 idt_A: 0.052 D_B: 0.091 G_B: 0.454 cycle_B: 0.177 idt_B: 0.053 sobelAB: 1.560 sobelBA: 1.729 \n",
            "End of epoch 116 / 120 \t Time Taken: 86 sec\n",
            "learning rate 0.0000131 -> 0.0000098\n",
            "(epoch: 117, iters: 4, time: 0.840, data: 0.002) D_A: 0.208 G_A: 0.444 cycle_A: 0.157 idt_A: 0.042 D_B: 0.101 G_B: 0.535 cycle_B: 0.133 idt_B: 0.054 sobelAB: 1.537 sobelBA: 1.632 \n",
            "(epoch: 117, iters: 104, time: 0.840, data: 0.000) D_A: 0.216 G_A: 0.283 cycle_A: 0.156 idt_A: 0.051 D_B: 0.102 G_B: 0.627 cycle_B: 0.180 idt_B: 0.053 sobelAB: 1.554 sobelBA: 1.654 \n",
            "End of epoch 117 / 120 \t Time Taken: 85 sec\n",
            "learning rate 0.0000098 -> 0.0000066\n",
            "(epoch: 118, iters: 98, time: 0.842, data: 0.002) D_A: 0.182 G_A: 0.247 cycle_A: 0.156 idt_A: 0.049 D_B: 0.101 G_B: 0.533 cycle_B: 0.179 idt_B: 0.054 sobelAB: 1.581 sobelBA: 1.691 \n",
            "End of epoch 118 / 120 \t Time Taken: 85 sec\n",
            "learning rate 0.0000066 -> 0.0000033\n",
            "(epoch: 119, iters: 92, time: 1.457, data: 0.002) D_A: 0.184 G_A: 0.334 cycle_A: 0.159 idt_A: 0.042 D_B: 0.107 G_B: 0.479 cycle_B: 0.131 idt_B: 0.054 sobelAB: 1.555 sobelBA: 1.629 \n",
            "End of epoch 119 / 120 \t Time Taken: 86 sec\n",
            "learning rate 0.0000033 -> 0.0000000\n",
            "(epoch: 120, iters: 86, time: 0.840, data: 0.002) D_A: 0.135 G_A: 0.347 cycle_A: 0.172 idt_A: 0.047 D_B: 0.131 G_B: 0.516 cycle_B: 0.159 idt_B: 0.056 sobelAB: 1.597 sobelBA: 1.650 \n",
            "saving the model at the end of epoch 120, iters 2120\n",
            "End of epoch 120 / 120 \t Time Taken: 86 sec\n"
          ],
          "name": "stdout"
        }
      ]
    },
    {
      "cell_type": "code",
      "metadata": {
        "colab": {
          "base_uri": "https://localhost:8080/"
        },
        "id": "uAQu7fisMbUa",
        "outputId": "243f55c8-64ad-401f-8c2c-26f3e42b7628"
      },
      "source": [
        "cd /content/drive/MyDrive/Stage_propositionS/pytorch-CycleGAN-and-pix2pix/checkpoints/rgb2nir/"
      ],
      "execution_count": null,
      "outputs": [
        {
          "output_type": "stream",
          "text": [
            "/content/drive/MyDrive/Stage_propositionS/pytorch-CycleGAN-and-pix2pix/checkpoints/rgb2nir\n"
          ],
          "name": "stdout"
        }
      ]
    },
    {
      "cell_type": "code",
      "metadata": {
        "colab": {
          "base_uri": "https://localhost:8080/"
        },
        "id": "CDhyUAvjMh1w",
        "outputId": "a77a8681-163e-425f-844f-0f7f27bdac6d"
      },
      "source": [
        "ls "
      ],
      "execution_count": null,
      "outputs": [
        {
          "output_type": "stream",
          "text": [
            "100_net_D_A.pth  120_net_G_B.pth  50_net_G_A.pth  90_net_D_B.pth\n",
            "100_net_D_B.pth  20_net_D_A.pth   50_net_G_B.pth  90_net_G_A.pth\n",
            "100_net_G_A.pth  20_net_D_B.pth   60_net_D_A.pth  90_net_G_B.pth\n",
            "100_net_G_B.pth  20_net_G_A.pth   60_net_D_B.pth  latest_net_D_A.pth\n",
            "10_net_D_A.pth   20_net_G_B.pth   60_net_G_A.pth  latest_net_D_B.pth\n",
            "10_net_D_B.pth   30_net_D_A.pth   60_net_G_B.pth  latest_net_G_A.pth\n",
            "10_net_G_A.pth   30_net_D_B.pth   70_net_D_A.pth  latest_net_G_B.pth\n",
            "10_net_G_B.pth   30_net_G_A.pth   70_net_D_B.pth  latest_net_G.pth\n",
            "110_net_D_A.pth  30_net_G_B.pth   70_net_G_A.pth  loss_log.txt\n",
            "110_net_D_B.pth  40_net_D_A.pth   70_net_G_B.pth  test_opt.txt\n",
            "110_net_G_A.pth  40_net_D_B.pth   80_net_D_A.pth  train_opt.txt\n",
            "110_net_G_B.pth  40_net_G_A.pth   80_net_D_B.pth  \u001b[0m\u001b[01;34mweb\u001b[0m/\n",
            "120_net_D_A.pth  40_net_G_B.pth   80_net_G_A.pth\n",
            "120_net_D_B.pth  50_net_D_A.pth   80_net_G_B.pth\n",
            "120_net_G_A.pth  50_net_D_B.pth   90_net_D_A.pth\n"
          ],
          "name": "stdout"
        }
      ]
    },
    {
      "cell_type": "code",
      "metadata": {
        "colab": {
          "base_uri": "https://localhost:8080/"
        },
        "id": "seVZemLTMmQb",
        "outputId": "c60ea686-2c2a-4493-ed5e-a54657034e91"
      },
      "source": [
        "ls /content/drive/MyDrive/Stage_propositionS/pytorch-CycleGAN-and-pix2pix/checkpoints/rgb2nir/loss_log.txt"
      ],
      "execution_count": null,
      "outputs": [
        {
          "output_type": "stream",
          "text": [
            "/content/drive/MyDrive/Stage_propositionS/pytorch-CycleGAN-and-pix2pix/checkpoints/rgb2nir/loss_log.txt\n"
          ],
          "name": "stdout"
        }
      ]
    },
    {
      "cell_type": "code",
      "metadata": {
        "id": "Rg-w942LGCRp"
      },
      "source": [
        "import pandas as pd\n",
        "\n",
        "path_txt = '/content/drive/MyDrive/Stage_propositionS/pytorch-CycleGAN-and-pix2pix/checkpoints/rgb2nir/loss_log.txt'\n",
        "\n",
        "file1 = open(path_txt, 'r') \n",
        "lines = file1.readlines()\n"
      ],
      "execution_count": null,
      "outputs": []
    },
    {
      "cell_type": "code",
      "metadata": {
        "colab": {
          "base_uri": "https://localhost:8080/"
        },
        "id": "7h0Dqg8pGJmC",
        "outputId": "b6792686-4416-4132-a9a4-f491fc39b164"
      },
      "source": [
        "lines"
      ],
      "execution_count": null,
      "outputs": [
        {
          "output_type": "execute_result",
          "data": {
            "text/plain": [
              "['================ Training Loss (Fri Jul 23 16:53:33 2021) ================\\n',\n",
              " '================ Training Loss (Fri Jul 23 16:57:04 2021) ================\\n',\n",
              " '(epoch: 1, iters: 100, time: 0.574, data: 0.757) D_A: 0.080 G_A: 0.871 cycle_A: 1.202 idt_A: 0.488 D_B: 0.083 G_B: 0.843 cycle_B: 0.785 idt_B: 0.631 \\n',\n",
              " '(epoch: 2, iters: 94, time: 0.582, data: 0.002) D_A: 0.083 G_A: 0.763 cycle_A: 1.011 idt_A: 0.317 D_B: 0.054 G_B: 0.949 cycle_B: 0.602 idt_B: 0.400 \\n',\n",
              " '(epoch: 3, iters: 88, time: 0.595, data: 0.002) D_A: 0.069 G_A: 0.515 cycle_A: 0.740 idt_A: 0.198 D_B: 0.088 G_B: 0.915 cycle_B: 0.528 idt_B: 0.246 \\n',\n",
              " '(epoch: 4, iters: 82, time: 0.828, data: 0.002) D_A: 0.209 G_A: 0.631 cycle_A: 0.623 idt_A: 0.164 D_B: 0.020 G_B: 0.887 cycle_B: 0.409 idt_B: 0.290 \\n',\n",
              " '(epoch: 5, iters: 76, time: 0.596, data: 0.002) D_A: 0.101 G_A: 0.609 cycle_A: 0.521 idt_A: 0.194 D_B: 0.019 G_B: 0.918 cycle_B: 0.300 idt_B: 0.222 \\n',\n",
              " '(epoch: 6, iters: 70, time: 0.595, data: 0.002) D_A: 0.094 G_A: 0.748 cycle_A: 0.676 idt_A: 0.156 D_B: 0.030 G_B: 0.902 cycle_B: 0.336 idt_B: 0.240 \\n',\n",
              " '(epoch: 7, iters: 64, time: 0.595, data: 0.002) D_A: 0.105 G_A: 0.775 cycle_A: 0.464 idt_A: 0.155 D_B: 0.305 G_B: 0.582 cycle_B: 0.473 idt_B: 0.194 \\n',\n",
              " '(epoch: 8, iters: 58, time: 0.814, data: 0.002) D_A: 1.051 G_A: 1.190 cycle_A: 0.622 idt_A: 0.197 D_B: 0.188 G_B: 0.372 cycle_B: 0.530 idt_B: 0.188 \\n',\n",
              " '(epoch: 9, iters: 52, time: 0.597, data: 0.002) D_A: 0.074 G_A: 0.618 cycle_A: 0.557 idt_A: 0.238 D_B: 0.160 G_B: 0.421 cycle_B: 0.534 idt_B: 0.251 \\n',\n",
              " '(epoch: 10, iters: 46, time: 0.597, data: 0.002) D_A: 0.103 G_A: 0.657 cycle_A: 0.481 idt_A: 0.196 D_B: 0.198 G_B: 0.324 cycle_B: 0.400 idt_B: 0.183 \\n',\n",
              " '(epoch: 11, iters: 40, time: 0.596, data: 0.002) D_A: 0.081 G_A: 0.705 cycle_A: 0.484 idt_A: 0.178 D_B: 0.175 G_B: 0.406 cycle_B: 0.374 idt_B: 0.219 \\n',\n",
              " '(epoch: 12, iters: 34, time: 0.832, data: 0.002) D_A: 0.177 G_A: 0.407 cycle_A: 0.420 idt_A: 0.152 D_B: 0.457 G_B: 0.637 cycle_B: 0.306 idt_B: 0.181 \\n',\n",
              " '(epoch: 13, iters: 28, time: 0.596, data: 0.002) D_A: 0.048 G_A: 0.501 cycle_A: 0.634 idt_A: 0.185 D_B: 0.179 G_B: 0.406 cycle_B: 0.394 idt_B: 0.222 \\n',\n",
              " '(epoch: 14, iters: 22, time: 0.595, data: 0.002) D_A: 0.204 G_A: 0.807 cycle_A: 0.532 idt_A: 0.108 D_B: 0.138 G_B: 0.343 cycle_B: 0.328 idt_B: 0.218 \\n',\n",
              " '(epoch: 15, iters: 16, time: 0.596, data: 0.003) D_A: 0.075 G_A: 0.798 cycle_A: 0.481 idt_A: 0.132 D_B: 0.129 G_B: 0.378 cycle_B: 0.333 idt_B: 0.174 \\n',\n",
              " '(epoch: 16, iters: 10, time: 0.831, data: 0.000) D_A: 1.939 G_A: 8.280 cycle_A: 2.046 idt_A: 0.484 D_B: 0.110 G_B: 0.648 cycle_B: 1.584 idt_B: 0.225 \\n',\n",
              " '(epoch: 17, iters: 4, time: 0.592, data: 0.001) D_A: 0.050 G_A: 0.699 cycle_A: 0.770 idt_A: 0.158 D_B: 0.389 G_B: 0.739 cycle_B: 0.415 idt_B: 0.222 \\n',\n",
              " '(epoch: 17, iters: 104, time: 0.594, data: 0.000) D_A: 0.046 G_A: 0.556 cycle_A: 0.427 idt_A: 0.183 D_B: 0.135 G_B: 0.480 cycle_B: 0.399 idt_B: 0.170 \\n',\n",
              " '(epoch: 18, iters: 98, time: 0.598, data: 0.002) D_A: 0.103 G_A: 0.430 cycle_A: 0.457 idt_A: 0.094 D_B: 0.219 G_B: 0.370 cycle_B: 0.220 idt_B: 0.179 \\n',\n",
              " '(epoch: 19, iters: 92, time: 0.839, data: 0.002) D_A: 0.073 G_A: 1.082 cycle_A: 1.763 idt_A: 0.163 D_B: 0.169 G_B: 0.901 cycle_B: 0.700 idt_B: 0.182 \\n',\n",
              " '(epoch: 20, iters: 86, time: 0.593, data: 0.002) D_A: 0.103 G_A: 0.902 cycle_A: 1.102 idt_A: 1.059 D_B: 0.113 G_B: 0.695 cycle_B: 1.527 idt_B: 0.154 \\n',\n",
              " '(epoch: 21, iters: 80, time: 0.593, data: 0.002) D_A: 0.122 G_A: 0.542 cycle_A: 0.379 idt_A: 0.143 D_B: 0.160 G_B: 0.340 cycle_B: 0.286 idt_B: 0.141 \\n',\n",
              " '(epoch: 22, iters: 74, time: 0.596, data: 0.002) D_A: 0.133 G_A: 0.505 cycle_A: 0.384 idt_A: 0.217 D_B: 0.199 G_B: 0.449 cycle_B: 0.397 idt_B: 0.143 \\n',\n",
              " '(epoch: 23, iters: 68, time: 0.852, data: 0.002) D_A: 0.108 G_A: 0.418 cycle_A: 0.392 idt_A: 0.138 D_B: 0.138 G_B: 0.477 cycle_B: 0.350 idt_B: 0.122 \\n',\n",
              " '(epoch: 24, iters: 62, time: 0.597, data: 0.002) D_A: 0.139 G_A: 0.265 cycle_A: 0.437 idt_A: 0.074 D_B: 0.153 G_B: 0.446 cycle_B: 0.239 idt_B: 0.148 \\n',\n",
              " '(epoch: 25, iters: 56, time: 0.597, data: 0.002) D_A: 0.091 G_A: 0.495 cycle_A: 0.550 idt_A: 0.151 D_B: 0.094 G_B: 0.694 cycle_B: 0.485 idt_B: 0.205 \\n',\n",
              " '(epoch: 26, iters: 50, time: 0.596, data: 0.002) D_A: 0.127 G_A: 1.494 cycle_A: 0.970 idt_A: 0.222 D_B: 0.083 G_B: 0.900 cycle_B: 0.743 idt_B: 0.260 \\n',\n",
              " '(epoch: 27, iters: 44, time: 0.867, data: 0.002) D_A: 0.110 G_A: 0.657 cycle_A: 0.398 idt_A: 0.102 D_B: 0.113 G_B: 0.926 cycle_B: 0.288 idt_B: 0.162 \\n',\n",
              " '(epoch: 28, iters: 38, time: 0.597, data: 0.002) D_A: 0.066 G_A: 0.681 cycle_A: 0.414 idt_A: 0.169 D_B: 0.142 G_B: 0.532 cycle_B: 0.308 idt_B: 0.146 \\n',\n",
              " '(epoch: 29, iters: 32, time: 0.593, data: 0.002) D_A: 0.166 G_A: 1.110 cycle_A: 0.771 idt_A: 0.489 D_B: 0.158 G_B: 0.522 cycle_B: 0.687 idt_B: 0.250 \\n',\n",
              " '(epoch: 30, iters: 26, time: 0.594, data: 0.002) D_A: 0.032 G_A: 0.719 cycle_A: 0.394 idt_A: 0.180 D_B: 0.175 G_B: 0.373 cycle_B: 0.361 idt_B: 0.162 \\n',\n",
              " '(epoch: 31, iters: 20, time: 0.881, data: 0.002) D_A: 0.088 G_A: 0.432 cycle_A: 0.395 idt_A: 0.131 D_B: 0.097 G_B: 0.427 cycle_B: 0.457 idt_B: 0.150 \\n',\n",
              " '(epoch: 32, iters: 14, time: 0.596, data: 0.002) D_A: 0.102 G_A: 0.648 cycle_A: 0.322 idt_A: 0.128 D_B: 0.117 G_B: 0.454 cycle_B: 0.331 idt_B: 0.110 \\n',\n",
              " '(epoch: 33, iters: 8, time: 0.596, data: 0.002) D_A: 0.103 G_A: 0.568 cycle_A: 0.309 idt_A: 0.131 D_B: 0.324 G_B: 0.204 cycle_B: 0.280 idt_B: 0.120 \\n',\n",
              " '(epoch: 34, iters: 2, time: 0.555, data: 0.002) D_A: 0.156 G_A: 0.839 cycle_A: 0.421 idt_A: 0.187 D_B: 0.145 G_B: 0.188 cycle_B: 0.370 idt_B: 0.139 \\n',\n",
              " '(epoch: 34, iters: 102, time: 0.910, data: 0.002) D_A: 0.334 G_A: 1.192 cycle_A: 0.384 idt_A: 0.111 D_B: 0.117 G_B: 0.230 cycle_B: 0.310 idt_B: 0.136 \\n',\n",
              " '(epoch: 35, iters: 96, time: 0.591, data: 0.002) D_A: 0.158 G_A: 0.470 cycle_A: 0.407 idt_A: 0.114 D_B: 0.206 G_B: 0.789 cycle_B: 0.300 idt_B: 0.163 \\n',\n",
              " '(epoch: 36, iters: 90, time: 0.593, data: 0.002) D_A: 0.045 G_A: 0.735 cycle_A: 0.498 idt_A: 0.122 D_B: 0.147 G_B: 0.567 cycle_B: 0.356 idt_B: 0.203 \\n',\n",
              " '(epoch: 37, iters: 84, time: 0.595, data: 0.002) D_A: 0.102 G_A: 0.592 cycle_A: 0.379 idt_A: 0.106 D_B: 0.130 G_B: 1.139 cycle_B: 0.294 idt_B: 0.124 \\n',\n",
              " '(epoch: 38, iters: 78, time: 0.902, data: 0.002) D_A: 0.107 G_A: 0.420 cycle_A: 0.401 idt_A: 0.130 D_B: 0.058 G_B: 0.474 cycle_B: 0.457 idt_B: 0.145 \\n',\n",
              " '(epoch: 39, iters: 72, time: 0.591, data: 0.002) D_A: 0.261 G_A: 2.127 cycle_A: 2.385 idt_A: 0.516 D_B: 0.161 G_B: 0.666 cycle_B: 1.544 idt_B: 1.900 \\n',\n",
              " '(epoch: 40, iters: 66, time: 0.593, data: 0.002) D_A: 0.019 G_A: 0.988 cycle_A: 0.347 idt_A: 0.140 D_B: 0.119 G_B: 0.560 cycle_B: 0.358 idt_B: 0.153 \\n',\n",
              " '(epoch: 41, iters: 60, time: 0.594, data: 0.002) D_A: 0.020 G_A: 1.038 cycle_A: 0.405 idt_A: 0.121 D_B: 0.071 G_B: 0.814 cycle_B: 0.371 idt_B: 0.165 \\n',\n",
              " '(epoch: 42, iters: 54, time: 0.922, data: 0.003) D_A: 0.101 G_A: 0.905 cycle_A: 0.339 idt_A: 0.107 D_B: 0.025 G_B: 0.958 cycle_B: 0.308 idt_B: 0.144 \\n',\n",
              " '(epoch: 43, iters: 48, time: 0.596, data: 0.002) D_A: 0.023 G_A: 0.703 cycle_A: 0.349 idt_A: 0.110 D_B: 0.018 G_B: 0.950 cycle_B: 0.319 idt_B: 0.131 \\n',\n",
              " '(epoch: 44, iters: 42, time: 0.591, data: 0.002) D_A: 0.017 G_A: 0.923 cycle_A: 0.298 idt_A: 0.098 D_B: 0.016 G_B: 0.956 cycle_B: 0.291 idt_B: 0.124 \\n',\n",
              " '(epoch: 45, iters: 36, time: 0.596, data: 0.002) D_A: 0.005 G_A: 0.991 cycle_A: 0.325 idt_A: 0.060 D_B: 0.069 G_B: 0.778 cycle_B: 0.207 idt_B: 0.126 \\n',\n",
              " '(epoch: 46, iters: 30, time: 0.933, data: 0.002) D_A: 0.009 G_A: 0.910 cycle_A: 0.297 idt_A: 0.084 D_B: 0.323 G_B: 0.076 cycle_B: 0.255 idt_B: 0.120 \\n',\n",
              " '(epoch: 47, iters: 24, time: 0.592, data: 0.002) D_A: 0.019 G_A: 0.838 cycle_A: 0.430 idt_A: 0.155 D_B: 0.189 G_B: 0.155 cycle_B: 0.428 idt_B: 0.154 \\n',\n",
              " '(epoch: 48, iters: 18, time: 0.593, data: 0.002) D_A: 0.011 G_A: 0.816 cycle_A: 0.301 idt_A: 0.073 D_B: 0.104 G_B: 0.258 cycle_B: 0.226 idt_B: 0.137 \\n',\n",
              " '(epoch: 49, iters: 12, time: 0.595, data: 0.002) D_A: 0.014 G_A: 0.782 cycle_A: 0.272 idt_A: 0.076 D_B: 0.142 G_B: 0.135 cycle_B: 0.245 idt_B: 0.111 \\n',\n",
              " '(epoch: 50, iters: 6, time: 0.957, data: 0.004) D_A: 0.081 G_A: 0.709 cycle_A: 0.322 idt_A: 0.092 D_B: 0.134 G_B: 0.339 cycle_B: 0.233 idt_B: 0.138 \\n',\n",
              " '(epoch: 50, iters: 106, time: 0.595, data: 0.001) D_A: 0.009 G_A: 1.032 cycle_A: 0.426 idt_A: 0.124 D_B: 0.161 G_B: 0.919 cycle_B: 0.339 idt_B: 0.202 \\n',\n",
              " '(epoch: 51, iters: 100, time: 0.592, data: 0.336) D_A: 0.022 G_A: 1.019 cycle_A: 0.334 idt_A: 0.096 D_B: 0.134 G_B: 1.142 cycle_B: 0.252 idt_B: 0.136 \\n',\n",
              " '(epoch: 52, iters: 94, time: 0.596, data: 0.002) D_A: 0.013 G_A: 0.987 cycle_A: 0.344 idt_A: 0.088 D_B: 0.015 G_B: 0.966 cycle_B: 0.264 idt_B: 0.162 \\n',\n",
              " '(epoch: 53, iters: 88, time: 0.961, data: 0.002) D_A: 0.013 G_A: 0.777 cycle_A: 0.330 idt_A: 0.063 D_B: 0.012 G_B: 0.842 cycle_B: 0.196 idt_B: 0.157 \\n',\n",
              " '(epoch: 54, iters: 82, time: 0.597, data: 0.002) D_A: 0.008 G_A: 0.755 cycle_A: 0.308 idt_A: 0.069 D_B: 0.011 G_B: 0.825 cycle_B: 0.258 idt_B: 0.131 \\n',\n",
              " '(epoch: 55, iters: 76, time: 0.592, data: 0.002) D_A: 0.008 G_A: 0.879 cycle_A: 0.293 idt_A: 0.070 D_B: 0.014 G_B: 0.964 cycle_B: 0.222 idt_B: 0.127 \\n',\n",
              " '(epoch: 56, iters: 70, time: 0.591, data: 0.002) D_A: 0.023 G_A: 1.263 cycle_A: 0.947 idt_A: 0.142 D_B: 0.008 G_B: 1.255 cycle_B: 0.451 idt_B: 0.410 \\n',\n",
              " '(epoch: 57, iters: 64, time: 0.970, data: 0.002) D_A: 0.010 G_A: 0.893 cycle_A: 0.466 idt_A: 0.088 D_B: 0.019 G_B: 0.898 cycle_B: 0.320 idt_B: 0.196 \\n',\n",
              " '(epoch: 58, iters: 58, time: 0.594, data: 0.002) D_A: 0.003 G_A: 0.994 cycle_A: 0.383 idt_A: 0.052 D_B: 0.007 G_B: 0.957 cycle_B: 0.192 idt_B: 0.147 \\n',\n",
              " '(epoch: 59, iters: 52, time: 0.596, data: 0.002) D_A: 0.005 G_A: 0.999 cycle_A: 0.356 idt_A: 0.068 D_B: 0.033 G_B: 0.553 cycle_B: 0.278 idt_B: 0.168 \\n',\n",
              " '(epoch: 60, iters: 46, time: 0.600, data: 0.002) D_A: 0.011 G_A: 0.921 cycle_A: 0.284 idt_A: 0.066 D_B: 0.054 G_B: 0.214 cycle_B: 0.258 idt_B: 0.119 \\n',\n",
              " '(epoch: 61, iters: 40, time: 1.057, data: 0.003) D_A: 0.032 G_A: 0.908 cycle_A: 0.408 idt_A: 0.061 D_B: 0.112 G_B: 0.694 cycle_B: 0.256 idt_B: 0.114 \\n',\n",
              " '(epoch: 62, iters: 34, time: 0.594, data: 0.002) D_A: 0.098 G_A: 0.550 cycle_A: 0.325 idt_A: 0.092 D_B: 0.245 G_B: 0.624 cycle_B: 0.249 idt_B: 0.157 \\n',\n",
              " '(epoch: 63, iters: 28, time: 0.596, data: 0.002) D_A: 0.089 G_A: 0.739 cycle_A: 0.284 idt_A: 0.088 D_B: 0.202 G_B: 0.962 cycle_B: 0.310 idt_B: 0.124 \\n',\n",
              " '(epoch: 64, iters: 22, time: 0.598, data: 0.002) D_A: 0.131 G_A: 0.437 cycle_A: 0.274 idt_A: 0.056 D_B: 0.108 G_B: 0.298 cycle_B: 0.192 idt_B: 0.107 \\n',\n",
              " '(epoch: 65, iters: 16, time: 0.975, data: 0.002) D_A: 0.108 G_A: 0.185 cycle_A: 0.268 idt_A: 0.087 D_B: 0.270 G_B: 0.245 cycle_B: 0.256 idt_B: 0.097 \\n',\n",
              " '(epoch: 66, iters: 10, time: 0.597, data: 0.002) D_A: 0.075 G_A: 0.326 cycle_A: 0.321 idt_A: 0.065 D_B: 0.172 G_B: 1.048 cycle_B: 0.267 idt_B: 0.123 \\n',\n",
              " '(epoch: 67, iters: 4, time: 0.596, data: 0.004) D_A: 0.053 G_A: 0.435 cycle_A: 0.311 idt_A: 0.062 D_B: 0.241 G_B: 0.138 cycle_B: 0.220 idt_B: 0.112 \\n',\n",
              " '(epoch: 67, iters: 104, time: 0.596, data: 0.000) D_A: 0.082 G_A: 0.607 cycle_A: 0.297 idt_A: 0.072 D_B: 0.116 G_B: 0.560 cycle_B: 0.290 idt_B: 0.115 \\n',\n",
              " '(epoch: 68, iters: 98, time: 1.003, data: 0.002) D_A: 0.042 G_A: 0.444 cycle_A: 0.300 idt_A: 0.078 D_B: 0.133 G_B: 0.270 cycle_B: 0.216 idt_B: 0.122 \\n',\n",
              " '(epoch: 69, iters: 92, time: 0.598, data: 0.002) D_A: 0.136 G_A: 0.406 cycle_A: 0.283 idt_A: 0.069 D_B: 0.148 G_B: 0.404 cycle_B: 0.256 idt_B: 0.102 \\n',\n",
              " '(epoch: 70, iters: 86, time: 0.599, data: 0.002) D_A: 0.093 G_A: 0.526 cycle_A: 0.243 idt_A: 0.060 D_B: 0.188 G_B: 0.289 cycle_B: 0.228 idt_B: 0.084 \\n',\n",
              " '(epoch: 71, iters: 80, time: 0.600, data: 0.002) D_A: 0.080 G_A: 0.520 cycle_A: 0.289 idt_A: 0.063 D_B: 0.107 G_B: 0.439 cycle_B: 0.250 idt_B: 0.091 \\n',\n",
              " '(epoch: 72, iters: 74, time: 0.998, data: 0.002) D_A: 0.099 G_A: 0.491 cycle_A: 0.283 idt_A: 0.062 D_B: 0.107 G_B: 0.473 cycle_B: 0.222 idt_B: 0.106 \\n',\n",
              " '(epoch: 73, iters: 68, time: 0.597, data: 0.002) D_A: 0.127 G_A: 0.321 cycle_A: 0.296 idt_A: 0.051 D_B: 0.202 G_B: 0.380 cycle_B: 0.165 idt_B: 0.093 \\n',\n",
              " '(epoch: 74, iters: 62, time: 0.594, data: 0.002) D_A: 0.156 G_A: 0.664 cycle_A: 0.275 idt_A: 0.052 D_B: 0.140 G_B: 0.480 cycle_B: 0.180 idt_B: 0.083 \\n',\n",
              " '(epoch: 75, iters: 56, time: 0.592, data: 0.002) D_A: 0.148 G_A: 0.376 cycle_A: 0.272 idt_A: 0.055 D_B: 0.099 G_B: 0.504 cycle_B: 0.192 idt_B: 0.081 \\n',\n",
              " '(epoch: 76, iters: 50, time: 1.064, data: 0.002) D_A: 0.177 G_A: 0.312 cycle_A: 0.269 idt_A: 0.057 D_B: 0.180 G_B: 0.234 cycle_B: 0.148 idt_B: 0.093 \\n',\n",
              " '(epoch: 77, iters: 44, time: 0.592, data: 0.002) D_A: 0.036 G_A: 0.602 cycle_A: 0.267 idt_A: 0.076 D_B: 0.123 G_B: 0.403 cycle_B: 0.280 idt_B: 0.089 \\n',\n",
              " '(epoch: 78, iters: 38, time: 0.596, data: 0.002) D_A: 0.126 G_A: 0.438 cycle_A: 0.199 idt_A: 0.062 D_B: 0.179 G_B: 0.801 cycle_B: 0.207 idt_B: 0.072 \\n',\n",
              " '(epoch: 79, iters: 32, time: 0.592, data: 0.002) D_A: 0.157 G_A: 0.397 cycle_A: 0.238 idt_A: 0.055 D_B: 0.177 G_B: 0.459 cycle_B: 0.159 idt_B: 0.074 \\n',\n",
              " '(epoch: 80, iters: 26, time: 1.048, data: 0.002) D_A: 0.135 G_A: 0.462 cycle_A: 0.222 idt_A: 0.063 D_B: 0.183 G_B: 0.185 cycle_B: 0.203 idt_B: 0.082 \\n',\n",
              " '(epoch: 81, iters: 20, time: 0.597, data: 0.002) D_A: 0.071 G_A: 0.359 cycle_A: 0.304 idt_A: 0.064 D_B: 0.233 G_B: 0.493 cycle_B: 0.234 idt_B: 0.095 \\n',\n",
              " '(epoch: 82, iters: 14, time: 0.594, data: 0.002) D_A: 0.244 G_A: 0.495 cycle_A: 0.205 idt_A: 0.079 D_B: 0.138 G_B: 0.556 cycle_B: 0.260 idt_B: 0.068 \\n',\n",
              " '(epoch: 83, iters: 8, time: 0.596, data: 0.001) D_A: 0.122 G_A: 0.461 cycle_A: 0.231 idt_A: 0.055 D_B: 0.223 G_B: 0.473 cycle_B: 0.177 idt_B: 0.072 \\n',\n",
              " '(epoch: 84, iters: 2, time: 0.994, data: 0.005) D_A: 0.226 G_A: 0.749 cycle_A: 0.241 idt_A: 0.068 D_B: 0.130 G_B: 0.465 cycle_B: 0.205 idt_B: 0.078 \\n',\n",
              " '(epoch: 84, iters: 102, time: 0.597, data: 0.002) D_A: 0.097 G_A: 0.610 cycle_A: 0.248 idt_A: 0.040 D_B: 0.120 G_B: 0.525 cycle_B: 0.137 idt_B: 0.075 \\n',\n",
              " '(epoch: 85, iters: 96, time: 0.595, data: 0.002) D_A: 0.146 G_A: 0.574 cycle_A: 0.242 idt_A: 0.075 D_B: 0.221 G_B: 0.180 cycle_B: 0.284 idt_B: 0.078 \\n',\n",
              " '(epoch: 86, iters: 90, time: 0.596, data: 0.002) D_A: 0.276 G_A: 0.536 cycle_A: 0.256 idt_A: 0.085 D_B: 0.193 G_B: 0.450 cycle_B: 0.255 idt_B: 0.075 \\n',\n",
              " '(epoch: 87, iters: 84, time: 1.046, data: 0.002) D_A: 0.106 G_A: 0.696 cycle_A: 0.221 idt_A: 0.058 D_B: 0.194 G_B: 0.219 cycle_B: 0.200 idt_B: 0.071 \\n',\n",
              " '(epoch: 88, iters: 78, time: 0.593, data: 0.002) D_A: 0.144 G_A: 0.429 cycle_A: 0.189 idt_A: 0.048 D_B: 0.176 G_B: 0.255 cycle_B: 0.174 idt_B: 0.064 \\n',\n",
              " '(epoch: 89, iters: 72, time: 0.596, data: 0.002) D_A: 0.157 G_A: 0.748 cycle_A: 0.243 idt_A: 0.052 D_B: 0.190 G_B: 0.276 cycle_B: 0.190 idt_B: 0.066 \\n',\n",
              " '(epoch: 90, iters: 66, time: 0.594, data: 0.002) D_A: 0.135 G_A: 0.464 cycle_A: 0.202 idt_A: 0.052 D_B: 0.099 G_B: 0.223 cycle_B: 0.178 idt_B: 0.068 \\n',\n",
              " '(epoch: 91, iters: 60, time: 1.119, data: 0.002) D_A: 0.182 G_A: 0.475 cycle_A: 0.229 idt_A: 0.058 D_B: 0.121 G_B: 0.423 cycle_B: 0.169 idt_B: 0.074 \\n',\n",
              " '(epoch: 92, iters: 54, time: 0.593, data: 0.002) D_A: 0.032 G_A: 0.659 cycle_A: 0.197 idt_A: 0.058 D_B: 0.166 G_B: 0.370 cycle_B: 0.215 idt_B: 0.062 \\n',\n",
              " '(epoch: 93, iters: 48, time: 0.603, data: 0.002) D_A: 0.297 G_A: 0.444 cycle_A: 0.170 idt_A: 0.043 D_B: 0.181 G_B: 0.363 cycle_B: 0.138 idt_B: 0.057 \\n',\n",
              " '(epoch: 94, iters: 42, time: 0.599, data: 0.002) D_A: 0.346 G_A: 0.680 cycle_A: 0.185 idt_A: 0.046 D_B: 0.170 G_B: 0.343 cycle_B: 0.132 idt_B: 0.062 \\n',\n",
              " '(epoch: 95, iters: 36, time: 1.082, data: 0.002) D_A: 0.048 G_A: 0.403 cycle_A: 0.187 idt_A: 0.075 D_B: 0.192 G_B: 0.345 cycle_B: 0.217 idt_B: 0.060 \\n',\n",
              " '(epoch: 96, iters: 30, time: 0.597, data: 0.002) D_A: 0.102 G_A: 0.375 cycle_A: 0.173 idt_A: 0.052 D_B: 0.175 G_B: 0.291 cycle_B: 0.201 idt_B: 0.059 \\n',\n",
              " '(epoch: 97, iters: 24, time: 0.597, data: 0.002) D_A: 0.369 G_A: 0.132 cycle_A: 0.189 idt_A: 0.043 D_B: 0.199 G_B: 0.346 cycle_B: 0.146 idt_B: 0.061 \\n',\n",
              " '(epoch: 98, iters: 18, time: 0.594, data: 0.002) D_A: 0.161 G_A: 0.266 cycle_A: 0.160 idt_A: 0.052 D_B: 0.196 G_B: 0.339 cycle_B: 0.161 idt_B: 0.058 \\n',\n",
              " '(epoch: 99, iters: 12, time: 1.089, data: 0.002) D_A: 0.111 G_A: 0.419 cycle_A: 0.179 idt_A: 0.068 D_B: 0.221 G_B: 0.407 cycle_B: 0.218 idt_B: 0.064 \\n',\n",
              " '(epoch: 100, iters: 6, time: 0.596, data: 0.000) D_A: 0.068 G_A: 0.493 cycle_A: 0.175 idt_A: 0.060 D_B: 0.170 G_B: 0.337 cycle_B: 0.208 idt_B: 0.061 \\n',\n",
              " '(epoch: 100, iters: 106, time: 0.597, data: 0.002) D_A: 0.147 G_A: 0.561 cycle_A: 0.190 idt_A: 0.047 D_B: 0.152 G_B: 0.359 cycle_B: 0.158 idt_B: 0.064 \\n',\n",
              " '================ Training Loss (Mon Aug  2 12:24:27 2021) ================\\n',\n",
              " '================ Training Loss (Mon Aug  2 12:25:37 2021) ================\\n',\n",
              " '================ Training Loss (Mon Aug  2 12:45:44 2021) ================\\n',\n",
              " '================ Training Loss (Mon Aug  2 12:46:09 2021) ================\\n',\n",
              " '(epoch: 101, iters: 100, time: 0.788, data: 1.540) D_A: 0.106 G_A: 0.728 cycle_A: 0.223 idt_A: 0.079 D_B: 0.148 G_B: 0.367 cycle_B: 0.292 idt_B: 0.066 sobelAB: 1.305 sobelBA: 1.426 \\n',\n",
              " '(epoch: 102, iters: 94, time: 0.817, data: 0.001) D_A: 0.122 G_A: 0.394 cycle_A: 0.215 idt_A: 0.067 D_B: 0.124 G_B: 0.491 cycle_B: 0.233 idt_B: 0.064 sobelAB: 1.292 sobelBA: 1.485 \\n',\n",
              " '(epoch: 103, iters: 88, time: 0.833, data: 0.002) D_A: 0.122 G_A: 0.245 cycle_A: 0.207 idt_A: 0.067 D_B: 0.091 G_B: 0.675 cycle_B: 0.228 idt_B: 0.060 sobelAB: 1.331 sobelBA: 1.501 \\n',\n",
              " '(epoch: 104, iters: 82, time: 2.527, data: 0.002) D_A: 0.098 G_A: 0.370 cycle_A: 0.202 idt_A: 0.059 D_B: 0.161 G_B: 0.216 cycle_B: 0.199 idt_B: 0.061 sobelAB: 1.331 sobelBA: 1.522 \\n',\n",
              " '(epoch: 105, iters: 76, time: 0.841, data: 0.002) D_A: 0.167 G_A: 0.501 cycle_A: 0.193 idt_A: 0.054 D_B: 0.117 G_B: 0.889 cycle_B: 0.197 idt_B: 0.060 sobelAB: 1.329 sobelBA: 1.463 \\n',\n",
              " '(epoch: 106, iters: 70, time: 0.841, data: 0.002) D_A: 0.168 G_A: 0.264 cycle_A: 0.196 idt_A: 0.056 D_B: 0.156 G_B: 0.181 cycle_B: 0.174 idt_B: 0.063 sobelAB: 1.395 sobelBA: 1.610 \\n',\n",
              " '(epoch: 107, iters: 64, time: 0.842, data: 0.001) D_A: 0.125 G_A: 0.502 cycle_A: 0.200 idt_A: 0.058 D_B: 0.134 G_B: 0.490 cycle_B: 0.179 idt_B: 0.061 sobelAB: 1.438 sobelBA: 1.642 \\n',\n",
              " '(epoch: 108, iters: 58, time: 1.424, data: 0.002) D_A: 0.130 G_A: 0.382 cycle_A: 0.174 idt_A: 0.048 D_B: 0.089 G_B: 0.531 cycle_B: 0.153 idt_B: 0.057 sobelAB: 1.448 sobelBA: 1.563 \\n',\n",
              " '(epoch: 109, iters: 52, time: 0.839, data: 0.002) D_A: 0.137 G_A: 0.247 cycle_A: 0.186 idt_A: 0.045 D_B: 0.147 G_B: 0.500 cycle_B: 0.149 idt_B: 0.058 sobelAB: 1.486 sobelBA: 1.496 \\n',\n",
              " '(epoch: 110, iters: 46, time: 0.840, data: 0.002) D_A: 0.135 G_A: 0.251 cycle_A: 0.180 idt_A: 0.047 D_B: 0.093 G_B: 0.435 cycle_B: 0.147 idt_B: 0.059 sobelAB: 1.530 sobelBA: 1.540 \\n',\n",
              " '(epoch: 111, iters: 40, time: 0.842, data: 0.002) D_A: 0.044 G_A: 0.561 cycle_A: 0.171 idt_A: 0.058 D_B: 0.105 G_B: 0.441 cycle_B: 0.199 idt_B: 0.055 sobelAB: 1.556 sobelBA: 1.669 \\n',\n",
              " '(epoch: 112, iters: 34, time: 1.429, data: 0.002) D_A: 0.142 G_A: 0.656 cycle_A: 0.186 idt_A: 0.045 D_B: 0.154 G_B: 0.280 cycle_B: 0.144 idt_B: 0.059 sobelAB: 1.582 sobelBA: 1.623 \\n',\n",
              " '(epoch: 113, iters: 28, time: 0.841, data: 0.002) D_A: 0.186 G_A: 0.271 cycle_A: 0.159 idt_A: 0.044 D_B: 0.099 G_B: 0.375 cycle_B: 0.138 idt_B: 0.053 sobelAB: 1.560 sobelBA: 1.635 \\n',\n",
              " '(epoch: 114, iters: 22, time: 0.843, data: 0.002) D_A: 0.126 G_A: 0.332 cycle_A: 0.182 idt_A: 0.056 D_B: 0.110 G_B: 0.487 cycle_B: 0.196 idt_B: 0.056 sobelAB: 1.600 sobelBA: 1.643 \\n',\n",
              " '(epoch: 115, iters: 16, time: 0.841, data: 0.002) D_A: 0.143 G_A: 0.436 cycle_A: 0.162 idt_A: 0.044 D_B: 0.110 G_B: 0.526 cycle_B: 0.136 idt_B: 0.054 sobelAB: 1.564 sobelBA: 1.589 \\n',\n",
              " '(epoch: 116, iters: 10, time: 1.421, data: 0.002) D_A: 0.103 G_A: 0.486 cycle_A: 0.159 idt_A: 0.052 D_B: 0.091 G_B: 0.454 cycle_B: 0.177 idt_B: 0.053 sobelAB: 1.560 sobelBA: 1.729 \\n',\n",
              " '(epoch: 117, iters: 4, time: 0.840, data: 0.002) D_A: 0.208 G_A: 0.444 cycle_A: 0.157 idt_A: 0.042 D_B: 0.101 G_B: 0.535 cycle_B: 0.133 idt_B: 0.054 sobelAB: 1.537 sobelBA: 1.632 \\n',\n",
              " '(epoch: 117, iters: 104, time: 0.840, data: 0.000) D_A: 0.216 G_A: 0.283 cycle_A: 0.156 idt_A: 0.051 D_B: 0.102 G_B: 0.627 cycle_B: 0.180 idt_B: 0.053 sobelAB: 1.554 sobelBA: 1.654 \\n',\n",
              " '(epoch: 118, iters: 98, time: 0.842, data: 0.002) D_A: 0.182 G_A: 0.247 cycle_A: 0.156 idt_A: 0.049 D_B: 0.101 G_B: 0.533 cycle_B: 0.179 idt_B: 0.054 sobelAB: 1.581 sobelBA: 1.691 \\n',\n",
              " '(epoch: 119, iters: 92, time: 1.457, data: 0.002) D_A: 0.184 G_A: 0.334 cycle_A: 0.159 idt_A: 0.042 D_B: 0.107 G_B: 0.479 cycle_B: 0.131 idt_B: 0.054 sobelAB: 1.555 sobelBA: 1.629 \\n',\n",
              " '(epoch: 120, iters: 86, time: 0.840, data: 0.002) D_A: 0.135 G_A: 0.347 cycle_A: 0.172 idt_A: 0.047 D_B: 0.131 G_B: 0.516 cycle_B: 0.159 idt_B: 0.056 sobelAB: 1.597 sobelBA: 1.650 \\n']"
            ]
          },
          "metadata": {
            "tags": []
          },
          "execution_count": 16
        }
      ]
    },
    {
      "cell_type": "code",
      "metadata": {
        "id": "YC56Y78IGIYf"
      },
      "source": [
        "dicts = list()\n",
        "for i, line in enumerate(lines):\n",
        "    if i < 2:\n",
        "        continue\n",
        "    parts = line.split(') ')[1].split(' ')\n",
        "    parts.pop(-1)\n",
        "    dict_tmp = dict()\n",
        "    dict_tmp['D_A'] = float(parts[1])\n",
        "    dict_tmp['G_A'] = float(parts[3])\n",
        "    dict_tmp['cycle_A'] = float(parts[5])\n",
        "    dict_tmp['idt_A'] = float(parts[7])\n",
        "    dict_tmp['D_B'] = float(parts[9])\n",
        "    dict_tmp['G_B'] = float(parts[11])\n",
        "    dict_tmp['cycle_B'] = float(parts[13])\n",
        "    dict_tmp['idt_B'] = float(parts[15])\n",
        "    dicts.append(dict_tmp)\n",
        "df = pd.DataFrame(dicts)"
      ],
      "execution_count": null,
      "outputs": []
    },
    {
      "cell_type": "code",
      "metadata": {
        "colab": {
          "base_uri": "https://localhost:8080/",
          "height": 419
        },
        "id": "ChSHoXonMv5J",
        "outputId": "fe1e36d2-aebd-4faa-dd55-8a68275fde83"
      },
      "source": [
        "df"
      ],
      "execution_count": null,
      "outputs": [
        {
          "output_type": "execute_result",
          "data": {
            "text/html": [
              "<div>\n",
              "<style scoped>\n",
              "    .dataframe tbody tr th:only-of-type {\n",
              "        vertical-align: middle;\n",
              "    }\n",
              "\n",
              "    .dataframe tbody tr th {\n",
              "        vertical-align: top;\n",
              "    }\n",
              "\n",
              "    .dataframe thead th {\n",
              "        text-align: right;\n",
              "    }\n",
              "</style>\n",
              "<table border=\"1\" class=\"dataframe\">\n",
              "  <thead>\n",
              "    <tr style=\"text-align: right;\">\n",
              "      <th></th>\n",
              "      <th>D_A</th>\n",
              "      <th>G_A</th>\n",
              "      <th>cycle_A</th>\n",
              "      <th>idt_A</th>\n",
              "      <th>D_B</th>\n",
              "      <th>G_B</th>\n",
              "      <th>cycle_B</th>\n",
              "      <th>idt_B</th>\n",
              "    </tr>\n",
              "  </thead>\n",
              "  <tbody>\n",
              "    <tr>\n",
              "      <th>0</th>\n",
              "      <td>0.080</td>\n",
              "      <td>0.871</td>\n",
              "      <td>1.202</td>\n",
              "      <td>0.488</td>\n",
              "      <td>0.083</td>\n",
              "      <td>0.843</td>\n",
              "      <td>0.785</td>\n",
              "      <td>0.631</td>\n",
              "    </tr>\n",
              "    <tr>\n",
              "      <th>1</th>\n",
              "      <td>0.083</td>\n",
              "      <td>0.763</td>\n",
              "      <td>1.011</td>\n",
              "      <td>0.317</td>\n",
              "      <td>0.054</td>\n",
              "      <td>0.949</td>\n",
              "      <td>0.602</td>\n",
              "      <td>0.400</td>\n",
              "    </tr>\n",
              "    <tr>\n",
              "      <th>2</th>\n",
              "      <td>0.069</td>\n",
              "      <td>0.515</td>\n",
              "      <td>0.740</td>\n",
              "      <td>0.198</td>\n",
              "      <td>0.088</td>\n",
              "      <td>0.915</td>\n",
              "      <td>0.528</td>\n",
              "      <td>0.246</td>\n",
              "    </tr>\n",
              "    <tr>\n",
              "      <th>3</th>\n",
              "      <td>0.209</td>\n",
              "      <td>0.631</td>\n",
              "      <td>0.623</td>\n",
              "      <td>0.164</td>\n",
              "      <td>0.020</td>\n",
              "      <td>0.887</td>\n",
              "      <td>0.409</td>\n",
              "      <td>0.290</td>\n",
              "    </tr>\n",
              "    <tr>\n",
              "      <th>4</th>\n",
              "      <td>0.101</td>\n",
              "      <td>0.609</td>\n",
              "      <td>0.521</td>\n",
              "      <td>0.194</td>\n",
              "      <td>0.019</td>\n",
              "      <td>0.918</td>\n",
              "      <td>0.300</td>\n",
              "      <td>0.222</td>\n",
              "    </tr>\n",
              "    <tr>\n",
              "      <th>...</th>\n",
              "      <td>...</td>\n",
              "      <td>...</td>\n",
              "      <td>...</td>\n",
              "      <td>...</td>\n",
              "      <td>...</td>\n",
              "      <td>...</td>\n",
              "      <td>...</td>\n",
              "      <td>...</td>\n",
              "    </tr>\n",
              "    <tr>\n",
              "      <th>101</th>\n",
              "      <td>0.369</td>\n",
              "      <td>0.132</td>\n",
              "      <td>0.189</td>\n",
              "      <td>0.043</td>\n",
              "      <td>0.199</td>\n",
              "      <td>0.346</td>\n",
              "      <td>0.146</td>\n",
              "      <td>0.061</td>\n",
              "    </tr>\n",
              "    <tr>\n",
              "      <th>102</th>\n",
              "      <td>0.161</td>\n",
              "      <td>0.266</td>\n",
              "      <td>0.160</td>\n",
              "      <td>0.052</td>\n",
              "      <td>0.196</td>\n",
              "      <td>0.339</td>\n",
              "      <td>0.161</td>\n",
              "      <td>0.058</td>\n",
              "    </tr>\n",
              "    <tr>\n",
              "      <th>103</th>\n",
              "      <td>0.111</td>\n",
              "      <td>0.419</td>\n",
              "      <td>0.179</td>\n",
              "      <td>0.068</td>\n",
              "      <td>0.221</td>\n",
              "      <td>0.407</td>\n",
              "      <td>0.218</td>\n",
              "      <td>0.064</td>\n",
              "    </tr>\n",
              "    <tr>\n",
              "      <th>104</th>\n",
              "      <td>0.068</td>\n",
              "      <td>0.493</td>\n",
              "      <td>0.175</td>\n",
              "      <td>0.060</td>\n",
              "      <td>0.170</td>\n",
              "      <td>0.337</td>\n",
              "      <td>0.208</td>\n",
              "      <td>0.061</td>\n",
              "    </tr>\n",
              "    <tr>\n",
              "      <th>105</th>\n",
              "      <td>0.147</td>\n",
              "      <td>0.561</td>\n",
              "      <td>0.190</td>\n",
              "      <td>0.047</td>\n",
              "      <td>0.152</td>\n",
              "      <td>0.359</td>\n",
              "      <td>0.158</td>\n",
              "      <td>0.064</td>\n",
              "    </tr>\n",
              "  </tbody>\n",
              "</table>\n",
              "<p>106 rows × 8 columns</p>\n",
              "</div>"
            ],
            "text/plain": [
              "       D_A    G_A  cycle_A  idt_A    D_B    G_B  cycle_B  idt_B\n",
              "0    0.080  0.871    1.202  0.488  0.083  0.843    0.785  0.631\n",
              "1    0.083  0.763    1.011  0.317  0.054  0.949    0.602  0.400\n",
              "2    0.069  0.515    0.740  0.198  0.088  0.915    0.528  0.246\n",
              "3    0.209  0.631    0.623  0.164  0.020  0.887    0.409  0.290\n",
              "4    0.101  0.609    0.521  0.194  0.019  0.918    0.300  0.222\n",
              "..     ...    ...      ...    ...    ...    ...      ...    ...\n",
              "101  0.369  0.132    0.189  0.043  0.199  0.346    0.146  0.061\n",
              "102  0.161  0.266    0.160  0.052  0.196  0.339    0.161  0.058\n",
              "103  0.111  0.419    0.179  0.068  0.221  0.407    0.218  0.064\n",
              "104  0.068  0.493    0.175  0.060  0.170  0.337    0.208  0.061\n",
              "105  0.147  0.561    0.190  0.047  0.152  0.359    0.158  0.064\n",
              "\n",
              "[106 rows x 8 columns]"
            ]
          },
          "metadata": {
            "tags": []
          },
          "execution_count": 8
        }
      ]
    },
    {
      "cell_type": "markdown",
      "metadata": {
        "id": "9UkcaFZiyASl"
      },
      "source": [
        "# Testing\n",
        "\n",
        "-   `python test.py --dataroot datasets/horse2zebra/testA --name horse2zebra_pretrained --model test --no_dropout`\n",
        "\n",
        "Change the `--dataroot` and `--name` to be consistent with your trained model's configuration.\n",
        "\n",
        "> from https://github.com/junyanz/pytorch-CycleGAN-and-pix2pix:\n",
        "> The option --model test is used for generating results of CycleGAN only for one side. This option will automatically set --dataset_mode single, which only loads the images from one set. On the contrary, using --model cycle_gan requires loading and generating results in both directions, which is sometimes unnecessary. The results will be saved at ./results/. Use --results_dir {directory_path_to_save_result} to specify the results directory.\n",
        "\n",
        "> For your own experiments, you might want to specify --netG, --norm, --no_dropout to match the generator architecture of the trained model."
      ]
    },
    {
      "cell_type": "code",
      "metadata": {
        "id": "T7jW1a3_t1ga"
      },
      "source": [
        "cp /content/drive/MyDrive/Stage_propositionS/pytorch-CycleGAN-and-pix2pix/checkpoints/rgb2nir/120_net_G_A.pth /content/drive/MyDrive/Stage_propositionS/pytorch-CycleGAN-and-pix2pix/checkpoints/rgb2nir//latest_net_G.pth"
      ],
      "execution_count": null,
      "outputs": []
    },
    {
      "cell_type": "code",
      "metadata": {
        "id": "uCsKkEq0yGh0",
        "colab": {
          "base_uri": "https://localhost:8080/"
        },
        "outputId": "bafac938-51bf-44b2-df64-793f1ccc6188"
      },
      "source": [
        "!python test.py --dataroot /content/drive/MyDrive/Stage_propositionS/pytorch-CycleGAN-and-pix2pix/datasets/rgb2nir/testA --name rgb2nir --model test --no_dropout"
      ],
      "execution_count": null,
      "outputs": [
        {
          "output_type": "stream",
          "text": [
            "----------------- Options ---------------\n",
            "             aspect_ratio: 1.0                           \n",
            "               batch_size: 2                             \n",
            "          checkpoints_dir: ./checkpoints                 \n",
            "                crop_size: 256                           \n",
            "                 dataroot: /content/drive/MyDrive/Stage_propositionS/pytorch-CycleGAN-and-pix2pix/datasets/rgb2nir/testA\t[default: None]\n",
            "             dataset_mode: single                        \n",
            "                direction: AtoB                          \n",
            "          display_winsize: 256                           \n",
            "                    epoch: latest                        \n",
            "                     eval: False                         \n",
            "                  gpu_ids: 0                             \n",
            "                init_gain: 0.02                          \n",
            "                init_type: normal                        \n",
            "                 input_nc: 1                             \n",
            "                  isTrain: False                         \t[default: None]\n",
            "                load_iter: 0                             \t[default: 0]\n",
            "                load_size: 256                           \n",
            "         max_dataset_size: inf                           \n",
            "                    model: test                          \n",
            "             model_suffix:                               \n",
            "               n_layers_D: 3                             \n",
            "                     name: rgb2nir                       \t[default: experiment_name]\n",
            "                      ndf: 64                            \n",
            "                     netD: basic                         \n",
            "                     netG: resnet_9blocks                \n",
            "                      ngf: 64                            \n",
            "               no_dropout: True                          \t[default: False]\n",
            "                  no_flip: False                         \n",
            "                     norm: instance                      \n",
            "                 num_test: 50                            \n",
            "              num_threads: 4                             \n",
            "                output_nc: 1                             \n",
            "                    phase: test                          \n",
            "               preprocess: none                          \n",
            "              results_dir: ./results/                    \n",
            "           serial_batches: False                         \n",
            "                   suffix:                               \n",
            "                  verbose: False                         \n",
            "----------------- End -------------------\n",
            "dataset [SingleDataset] was created\n",
            "initialize network with normal\n",
            "model [TestModel] was created\n",
            "loading the model from ./checkpoints/rgb2nir/latest_net_G.pth\n",
            "---------- Networks initialized -------------\n",
            "[Network G] Total number of parameters : 11.366 M\n",
            "-----------------------------------------------\n",
            "creating web directory ./results/rgb2nir/test_latest\n",
            "processing (0000)-th image... ['/content/drive/MyDrive/Stage_propositionS/pytorch-CycleGAN-and-pix2pix/datasets/rgb2nir/testA/rgbimage_0090.png']\n"
          ],
          "name": "stdout"
        }
      ]
    }
  ]
}